{
 "cells": [
  {
   "cell_type": "code",
   "execution_count": 1,
   "metadata": {},
   "outputs": [],
   "source": [
    "import pandas as pd\n",
    "import re"
   ]
  },
  {
   "cell_type": "code",
   "execution_count": 2,
   "metadata": {},
   "outputs": [],
   "source": [
    "test = pd.read_excel('Data_Test.xlsx')"
   ]
  },
  {
   "cell_type": "code",
   "execution_count": 3,
   "metadata": {},
   "outputs": [
    {
     "data": {
      "text/html": [
       "<div>\n",
       "<style scoped>\n",
       "    .dataframe tbody tr th:only-of-type {\n",
       "        vertical-align: middle;\n",
       "    }\n",
       "\n",
       "    .dataframe tbody tr th {\n",
       "        vertical-align: top;\n",
       "    }\n",
       "\n",
       "    .dataframe thead th {\n",
       "        text-align: right;\n",
       "    }\n",
       "</style>\n",
       "<table border=\"1\" class=\"dataframe\">\n",
       "  <thead>\n",
       "    <tr style=\"text-align: right;\">\n",
       "      <th></th>\n",
       "      <th>Title</th>\n",
       "      <th>Author</th>\n",
       "      <th>Edition</th>\n",
       "      <th>Reviews</th>\n",
       "      <th>Ratings</th>\n",
       "      <th>Synopsis</th>\n",
       "      <th>Genre</th>\n",
       "      <th>BookCategory</th>\n",
       "    </tr>\n",
       "  </thead>\n",
       "  <tbody>\n",
       "    <tr>\n",
       "      <td>0</td>\n",
       "      <td>The Complete Sherlock Holmes: 2 Boxes sets</td>\n",
       "      <td>Sir Arthur Conan Doyle</td>\n",
       "      <td>Mass Market Paperback,– 1 Oct 1986</td>\n",
       "      <td>4.4 out of 5 stars</td>\n",
       "      <td>960 customer reviews</td>\n",
       "      <td>A collection of entire body of work of the She...</td>\n",
       "      <td>Short Stories (Books)</td>\n",
       "      <td>Crime, Thriller &amp; Mystery</td>\n",
       "    </tr>\n",
       "    <tr>\n",
       "      <td>1</td>\n",
       "      <td>Learn Docker - Fundamentals of Docker 18.x: Ev...</td>\n",
       "      <td>Gabriel N. Schenker</td>\n",
       "      <td>Paperback,– Import, 26 Apr 2018</td>\n",
       "      <td>5.0 out of 5 stars</td>\n",
       "      <td>1 customer review</td>\n",
       "      <td>Enhance your software deployment workflow usin...</td>\n",
       "      <td>Operating Systems Textbooks</td>\n",
       "      <td>Computing, Internet &amp; Digital Media</td>\n",
       "    </tr>\n",
       "    <tr>\n",
       "      <td>2</td>\n",
       "      <td>Big Girl</td>\n",
       "      <td>Danielle Steel</td>\n",
       "      <td>Paperback,– 17 Mar 2011</td>\n",
       "      <td>5.0 out of 5 stars</td>\n",
       "      <td>4 customer reviews</td>\n",
       "      <td>'Watch out, world. Here I come!'\\nFor Victoria...</td>\n",
       "      <td>Romance (Books)</td>\n",
       "      <td>Romance</td>\n",
       "    </tr>\n",
       "    <tr>\n",
       "      <td>3</td>\n",
       "      <td>Think Python: How to Think Like a Computer Sci...</td>\n",
       "      <td>Allen B. Downey</td>\n",
       "      <td>Paperback,– 2016</td>\n",
       "      <td>4.1 out of 5 stars</td>\n",
       "      <td>11 customer reviews</td>\n",
       "      <td>If you want to learn how to program, working w...</td>\n",
       "      <td>Programming &amp; Software Development (Books)</td>\n",
       "      <td>Computing, Internet &amp; Digital Media</td>\n",
       "    </tr>\n",
       "    <tr>\n",
       "      <td>4</td>\n",
       "      <td>Oxford Word Skills: Advanced - Idioms &amp; Phrasa...</td>\n",
       "      <td>Redman Gairns</td>\n",
       "      <td>Paperback,– 26 Dec 2011</td>\n",
       "      <td>4.4 out of 5 stars</td>\n",
       "      <td>9 customer reviews</td>\n",
       "      <td>Learn and practise the verbs, prepositions and...</td>\n",
       "      <td>Linguistics (Books)</td>\n",
       "      <td>Language, Linguistics &amp; Writing</td>\n",
       "    </tr>\n",
       "  </tbody>\n",
       "</table>\n",
       "</div>"
      ],
      "text/plain": [
       "                                               Title                  Author  \\\n",
       "0         The Complete Sherlock Holmes: 2 Boxes sets  Sir Arthur Conan Doyle   \n",
       "1  Learn Docker - Fundamentals of Docker 18.x: Ev...     Gabriel N. Schenker   \n",
       "2                                           Big Girl          Danielle Steel   \n",
       "3  Think Python: How to Think Like a Computer Sci...         Allen B. Downey   \n",
       "4  Oxford Word Skills: Advanced - Idioms & Phrasa...           Redman Gairns   \n",
       "\n",
       "                              Edition             Reviews  \\\n",
       "0  Mass Market Paperback,– 1 Oct 1986  4.4 out of 5 stars   \n",
       "1     Paperback,– Import, 26 Apr 2018  5.0 out of 5 stars   \n",
       "2             Paperback,– 17 Mar 2011  5.0 out of 5 stars   \n",
       "3                    Paperback,– 2016  4.1 out of 5 stars   \n",
       "4             Paperback,– 26 Dec 2011  4.4 out of 5 stars   \n",
       "\n",
       "                Ratings                                           Synopsis  \\\n",
       "0  960 customer reviews  A collection of entire body of work of the She...   \n",
       "1     1 customer review  Enhance your software deployment workflow usin...   \n",
       "2    4 customer reviews  'Watch out, world. Here I come!'\\nFor Victoria...   \n",
       "3   11 customer reviews  If you want to learn how to program, working w...   \n",
       "4    9 customer reviews  Learn and practise the verbs, prepositions and...   \n",
       "\n",
       "                                        Genre  \\\n",
       "0                       Short Stories (Books)   \n",
       "1                 Operating Systems Textbooks   \n",
       "2                             Romance (Books)   \n",
       "3  Programming & Software Development (Books)   \n",
       "4                         Linguistics (Books)   \n",
       "\n",
       "                          BookCategory  \n",
       "0            Crime, Thriller & Mystery  \n",
       "1  Computing, Internet & Digital Media  \n",
       "2                              Romance  \n",
       "3  Computing, Internet & Digital Media  \n",
       "4      Language, Linguistics & Writing  "
      ]
     },
     "execution_count": 3,
     "metadata": {},
     "output_type": "execute_result"
    }
   ],
   "source": [
    "test.head()"
   ]
  },
  {
   "cell_type": "code",
   "execution_count": 4,
   "metadata": {},
   "outputs": [
    {
     "data": {
      "text/plain": [
       "0           The Complete Sherlock Holmes: 2 Boxes sets\n",
       "1    Learn Docker - Fundamentals of Docker 18.x: Ev...\n",
       "2                                             Big Girl\n",
       "3    Think Python: How to Think Like a Computer Sci...\n",
       "4    Oxford Word Skills: Advanced - Idioms & Phrasa...\n",
       "Name: Title, dtype: object"
      ]
     },
     "execution_count": 4,
     "metadata": {},
     "output_type": "execute_result"
    }
   ],
   "source": [
    "books = test['Title']\n",
    "type(books)\n",
    "books.head()"
   ]
  },
  {
   "cell_type": "code",
   "execution_count": 5,
   "metadata": {},
   "outputs": [
    {
     "data": {
      "text/plain": [
       "'The Complete Sherlock Holmes: 2 Boxes sets'"
      ]
     },
     "execution_count": 5,
     "metadata": {},
     "output_type": "execute_result"
    }
   ],
   "source": [
    "books[0]"
   ]
  },
  {
   "cell_type": "code",
   "execution_count": 6,
   "metadata": {},
   "outputs": [
    {
     "name": "stdout",
     "output_type": "stream",
     "text": [
      "Filtered String :  The Complete Sherlock Holmes  Boxes sets\n"
     ]
    }
   ],
   "source": [
    "#string = \"Geeks, 123()f_o...r12 7 geeks\"\n",
    "string = books[0]\n",
    "  \n",
    "# using join and isdigit  \n",
    "# to remove numeric digits from string \n",
    "res = ''.join([i for i in string if (i.isalpha() or i==' ')]) \n",
    "  \n",
    "# printing result \n",
    "print(\"Filtered String : \", res) \n",
    "# type(res)"
   ]
  },
  {
   "cell_type": "code",
   "execution_count": null,
   "metadata": {},
   "outputs": [],
   "source": []
  },
  {
   "cell_type": "code",
   "execution_count": 7,
   "metadata": {},
   "outputs": [],
   "source": [
    "for j in range(len(books)):\n",
    "    string= books[j]\n",
    "    books[j] = ''.join([i for i in string if (i.isalpha() or i==' ')])"
   ]
  },
  {
   "cell_type": "code",
   "execution_count": 8,
   "metadata": {},
   "outputs": [
    {
     "data": {
      "text/plain": [
       "0                The Complete Sherlock Holmes  Boxes sets\n",
       "1       Learn Docker  Fundamentals of Docker x Everyth...\n",
       "2                                                Big Girl\n",
       "3       Think Python How to Think Like a Computer Scie...\n",
       "4       Oxford Word Skills Advanced  Idioms  Phrasal V...\n",
       "                              ...                        \n",
       "1555     Things Every Designer Needs to Know About Peo...\n",
       "1556    Modern Letter Writing Course Personal Business...\n",
       "1557                        The Kite Runner Graphic Novel\n",
       "1558        Panzer Leader Penguin World War II Collection\n",
       "1559                          Complete Spanish StepbyStep\n",
       "Name: Title, Length: 1560, dtype: object"
      ]
     },
     "execution_count": 8,
     "metadata": {},
     "output_type": "execute_result"
    }
   ],
   "source": [
    "books"
   ]
  },
  {
   "cell_type": "code",
   "execution_count": 9,
   "metadata": {},
   "outputs": [
    {
     "data": {
      "text/plain": [
       "'The Complete Sherlock Holmes  Boxes sets'"
      ]
     },
     "execution_count": 9,
     "metadata": {},
     "output_type": "execute_result"
    }
   ],
   "source": [
    "books[0]\n",
    "#books[0].replace(\" \", \"+\")"
   ]
  },
  {
   "cell_type": "code",
   "execution_count": 10,
   "metadata": {},
   "outputs": [],
   "source": [
    "# Now making it URL (for search)\n",
    "# add '+'  between every words\n"
   ]
  },
  {
   "cell_type": "code",
   "execution_count": 11,
   "metadata": {},
   "outputs": [
    {
     "name": "stdout",
     "output_type": "stream",
     "text": [
      "I+cant+get+no+satisfaction\n"
     ]
    }
   ],
   "source": [
    "import re\n",
    "\n",
    "def urlify(s):\n",
    "\n",
    "    # Remove all non-word characters (everything except numbers and letters)\n",
    "    s = re.sub(r\"[^\\w\\s]\", '', s)\n",
    "\n",
    "    # Replace all runs of whitespace with a single dash\n",
    "    s = re.sub(r\"\\s+\", '+', s)\n",
    "\n",
    "    return s\n",
    "\n",
    "# Prints: I-cant-get-no-satisfaction\"\n",
    "print(urlify(\"I can't get no satisfaction!\"))\n"
   ]
  },
  {
   "cell_type": "code",
   "execution_count": 12,
   "metadata": {},
   "outputs": [],
   "source": [
    "urlkey = [urlify(buk) for buk in books]   #list of URLS search Keyword"
   ]
  },
  {
   "cell_type": "code",
   "execution_count": 13,
   "metadata": {},
   "outputs": [
    {
     "data": {
      "text/plain": [
       "'The+Complete+Sherlock+Holmes+Boxes+sets'"
      ]
     },
     "execution_count": 13,
     "metadata": {},
     "output_type": "execute_result"
    }
   ],
   "source": [
    "urlkey[0]"
   ]
  },
  {
   "cell_type": "code",
   "execution_count": null,
   "metadata": {},
   "outputs": [],
   "source": []
  },
  {
   "cell_type": "code",
   "execution_count": 14,
   "metadata": {},
   "outputs": [],
   "source": [
    "# Now we have to Add url (search) keyword to the AMAZON Search url\n",
    "# https://www.amazon.in/s?k=   __SEARCH KEYWORD__      &ref=nb_sb_noss"
   ]
  },
  {
   "cell_type": "code",
   "execution_count": 15,
   "metadata": {},
   "outputs": [],
   "source": [
    "# Creating a Complete AMAZON.in URLs (for Product Search)\n",
    "p = 'https://www.amazon.in/s?k='  # Search Engine Prefix\n",
    "s = '&ref=nb_sb_noss'    # Not a referral link Suffix\n",
    "\n",
    "url = [p+i+s for i in urlkey]"
   ]
  },
  {
   "cell_type": "code",
   "execution_count": 16,
   "metadata": {},
   "outputs": [
    {
     "name": "stdout",
     "output_type": "stream",
     "text": [
      "https://www.amazon.in/s?k=The+Complete+Sherlock+Holmes+Boxes+sets&ref=nb_sb_noss\n",
      "https://www.amazon.in/s?k=Learn+Docker+Fundamentals+of+Docker+x+Everything+you+need+to+know+about+containerizing+your+applications+and+running+them+in+production&ref=nb_sb_noss\n",
      "https://www.amazon.in/s?k=Big+Girl&ref=nb_sb_noss\n",
      "https://www.amazon.in/s?k=Think+Python+How+to+Think+Like+a+Computer+Scientist&ref=nb_sb_noss\n",
      "https://www.amazon.in/s?k=Oxford+Word+Skills+Advanced+Idioms+Phrasal+Verbs+Student+Book+with+Key&ref=nb_sb_noss\n"
     ]
    }
   ],
   "source": [
    "for i in url[0:5]:\n",
    "    print(i)"
   ]
  },
  {
   "cell_type": "code",
   "execution_count": 17,
   "metadata": {},
   "outputs": [],
   "source": [
    "# Hurray !!! Created amazon Product Search Links for all Books"
   ]
  },
  {
   "cell_type": "code",
   "execution_count": 18,
   "metadata": {},
   "outputs": [
    {
     "data": {
      "text/plain": [
       "1560"
      ]
     },
     "execution_count": 18,
     "metadata": {},
     "output_type": "execute_result"
    }
   ],
   "source": [
    "len(url)"
   ]
  },
  {
   "cell_type": "code",
   "execution_count": 38,
   "metadata": {},
   "outputs": [
    {
     "data": {
      "text/plain": [
       "'https://www.amazon.in/s?k=DAD+The+Copy+Book+Bibliotheca+Universalis&ref=nb_sb_noss'"
      ]
     },
     "execution_count": 38,
     "metadata": {},
     "output_type": "execute_result"
    }
   ],
   "source": [
    "url[17]"
   ]
  },
  {
   "cell_type": "code",
   "execution_count": null,
   "metadata": {},
   "outputs": [],
   "source": []
  },
  {
   "cell_type": "markdown",
   "metadata": {},
   "source": [
    "# Now Scrape Amazon.in for Product (Search Page)"
   ]
  },
  {
   "cell_type": "code",
   "execution_count": null,
   "metadata": {},
   "outputs": [],
   "source": []
  },
  {
   "cell_type": "code",
   "execution_count": 31,
   "metadata": {},
   "outputs": [],
   "source": [
    "import time\n",
    "import random\n",
    "import re\n",
    "import urllib\n",
    "import urllib3\n",
    "from bs4 import BeautifulSoup\n",
    "from urllib.request import urlopen\n",
    "import urllib.request\n",
    "from urllib.error import HTTPError \n",
    "from urllib.error import URLError\n",
    "from fake_useragent import UserAgent\n",
    "ua = UserAgent()\n",
    "\n",
    "\n",
    "#url = 'https://www.amazon.in/s?k=paperback+Learn+Docker+Fundamentals+of+Docker+x+Everything+you+need+to+know+about+containerizing+your+applications+and+running+them+in+production+paperback&ref=nb_sb_noss'\n",
    "\n",
    "#print(ua.chrome)  #ua.opera ua.safari ua.firefox\n",
    "\n",
    "#header = {'User-Agent':str(ua.random)}\n",
    "#print(header)\n",
    "price = []\n",
    "for i in url[0:1561]:      # LIST OF BOOKS (url) to Search \n",
    "    try:\n",
    "        time.sleep(random.randrange(3))  # 0-4 seconds random Pause\n",
    "        header = {'User-Agent':str(ua.random)}\n",
    "        request = urllib.request.Request(i,headers = header)   # i = url\n",
    "        page = urllib.request.urlopen(request)\n",
    "    except HTTPError as e:\n",
    "        print(e)\n",
    "    except URLError as ue:\n",
    "        print(ue)\n",
    "    except:\n",
    "        print(\"__An Error Occurred__\")\n",
    "    html = page.read()\n",
    "    #print(type(html))\n",
    "    \n",
    "# Now implementing over HTML (on Converted String Data)\n",
    "    str_html = str(html)   # Converting Bytes type to String type for extracting Information \n",
    "    result = re.search('<span class=\"a-price-whole\">(.*)</span>', str_html)\n",
    "    #print(result.group(1))\n",
    "    #type(result)\n",
    "\n",
    "    if type(result) == type(None):\n",
    "        #print (\"NoneType_SAD\")\n",
    "        price.append('None')\n",
    "    else:\n",
    "        #print(result.group(1)[0:7])   #Assumption: Maximum price would be of (e.g 15,400) 6 digit !!  Later we'll extract price (numerical value of it)\n",
    "        price.append(result.group(1)[0:7])\n",
    "# NOTE: here we have assumed that the First Product displayed would be the one we have searched\n",
    "\n",
    "# Expected Error: 'NoneType' object has no attribute 'group'"
   ]
  },
  {
   "cell_type": "code",
   "execution_count": 32,
   "metadata": {},
   "outputs": [
    {
     "data": {
      "text/plain": [
       "'\\n# Now implementing Over HTML (on Converted String Data)\\nstr_html = str(html)   # Converting Bytes type to String type for extracting Information \\nresult = re.search(\\'<span class=\"a-price-whole\">(.*)</span>\\', str_html)\\n#print(result.group(1))\\n#result.group(1)[0:7]   # Maximum price would be of (e.g 15,400) 6 digit !!  LATER we\\'ll extract price (numerical value of it)\\ntype(result)\\n\\nif type(result) == type(None):\\n    print (\"NoneType_SAD\")\\nelse:\\n    print(result.group(1)[0:7])\\n\\n# NOTE: here we have assumed that the First Product displayed would be the one we have searched\\n\\n# Expected Error: \\'NoneType\\' object has no attribute \\'group\\'\\n'"
      ]
     },
     "execution_count": 32,
     "metadata": {},
     "output_type": "execute_result"
    }
   ],
   "source": [
    "\"\"\"\n",
    "# Now implementing Over HTML (on Converted String Data)\n",
    "str_html = str(html)   # Converting Bytes type to String type for extracting Information \n",
    "result = re.search('<span class=\"a-price-whole\">(.*)</span>', str_html)\n",
    "#print(result.group(1))\n",
    "#result.group(1)[0:7]   # Maximum price would be of (e.g 15,400) 6 digit !!  LATER we'll extract price (numerical value of it)\n",
    "type(result)\n",
    "\n",
    "if type(result) == type(None):\n",
    "    print (\"NoneType_SAD\")\n",
    "else:\n",
    "    print(result.group(1)[0:7])\n",
    "\n",
    "# NOTE: here we have assumed that the First Product displayed would be the one we have searched\n",
    "\n",
    "# Expected Error: 'NoneType' object has no attribute 'group'\n",
    "\"\"\""
   ]
  },
  {
   "cell_type": "code",
   "execution_count": 39,
   "metadata": {},
   "outputs": [
    {
     "data": {
      "text/plain": [
       "3"
      ]
     },
     "execution_count": 39,
     "metadata": {},
     "output_type": "execute_result"
    }
   ],
   "source": [
    "len(price)"
   ]
  },
  {
   "cell_type": "code",
   "execution_count": 42,
   "metadata": {},
   "outputs": [],
   "source": [
    "price = [int((re.sub(\"[^0-9|.]\", \"\", i))) for i in price]"
   ]
  },
  {
   "cell_type": "code",
   "execution_count": 43,
   "metadata": {},
   "outputs": [],
   "source": [
    "import openpyxl \n",
    "\n",
    "price_sol = pd.DataFrame(price, columns = ['Price'])\n",
    "price_sol.to_excel('books_price_sol--.xlsx', index = False)"
   ]
  },
  {
   "cell_type": "code",
   "execution_count": 44,
   "metadata": {},
   "outputs": [
    {
     "data": {
      "text/plain": [
       "(3, 1)"
      ]
     },
     "execution_count": 44,
     "metadata": {},
     "output_type": "execute_result"
    }
   ],
   "source": [
    "price_sol.shape"
   ]
  },
  {
   "cell_type": "code",
   "execution_count": 46,
   "metadata": {},
   "outputs": [
    {
     "data": {
      "text/plain": [
       "list"
      ]
     },
     "execution_count": 46,
     "metadata": {},
     "output_type": "execute_result"
    }
   ],
   "source": [
    "price"
   ]
  },
  {
   "cell_type": "code",
   "execution_count": null,
   "metadata": {},
   "outputs": [],
   "source": []
  }
 ],
 "metadata": {
  "kernelspec": {
   "display_name": "Python 3",
   "language": "python",
   "name": "python3"
  },
  "language_info": {
   "codemirror_mode": {
    "name": "ipython",
    "version": 3
   },
   "file_extension": ".py",
   "mimetype": "text/x-python",
   "name": "python",
   "nbconvert_exporter": "python",
   "pygments_lexer": "ipython3",
   "version": "3.7.4"
  }
 },
 "nbformat": 4,
 "nbformat_minor": 2
}
